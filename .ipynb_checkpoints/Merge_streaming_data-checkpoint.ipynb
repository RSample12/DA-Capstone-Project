{
 "cells": [
  {
   "cell_type": "code",
   "execution_count": 1,
   "id": "be2f188f-0da5-4ffb-ae51-8b0f7033ea2b",
   "metadata": {},
   "outputs": [],
   "source": [
    "import pandas as pd\n",
    "\n",
    "df_amazon = pd.read_csv('cleaned_data/amazon_data_clean.csv')\n",
    "df_netflix = pd.read_csv('cleaned_data/netflix_data_clean.csv')\n",
    "df_hulu = pd.read_csv('cleaned_data/hulucleandata.csv')\n",
    "df_disney = pd.read_csv('cleaned_data/disneypluscleandatatitles.csv')"
   ]
  },
  {
   "cell_type": "code",
   "execution_count": 2,
   "id": "6179743f-c0f9-40b2-8eff-81608d074a88",
   "metadata": {},
   "outputs": [
    {
     "data": {
      "text/html": [
       "<div>\n",
       "<style scoped>\n",
       "    .dataframe tbody tr th:only-of-type {\n",
       "        vertical-align: middle;\n",
       "    }\n",
       "\n",
       "    .dataframe tbody tr th {\n",
       "        vertical-align: top;\n",
       "    }\n",
       "\n",
       "    .dataframe thead th {\n",
       "        text-align: right;\n",
       "    }\n",
       "</style>\n",
       "<table border=\"1\" class=\"dataframe\">\n",
       "  <thead>\n",
       "    <tr style=\"text-align: right;\">\n",
       "      <th></th>\n",
       "      <th>show_id</th>\n",
       "      <th>type</th>\n",
       "      <th>title</th>\n",
       "      <th>director</th>\n",
       "      <th>cast</th>\n",
       "      <th>country</th>\n",
       "      <th>release_year</th>\n",
       "      <th>rating</th>\n",
       "      <th>duration</th>\n",
       "      <th>listed_in</th>\n",
       "      <th>description</th>\n",
       "      <th>date_added</th>\n",
       "    </tr>\n",
       "  </thead>\n",
       "  <tbody>\n",
       "    <tr>\n",
       "      <th>0</th>\n",
       "      <td>s2</td>\n",
       "      <td>Movie</td>\n",
       "      <td>Take Care Good Night</td>\n",
       "      <td>Girish Joshi</td>\n",
       "      <td>Mahesh Manjrekar, Abhay Mahajan, Sachin Khedekar</td>\n",
       "      <td>India</td>\n",
       "      <td>2018</td>\n",
       "      <td>13+</td>\n",
       "      <td>110.0</td>\n",
       "      <td>Drama, International</td>\n",
       "      <td>A Metro Family decides to fight a Cyber Crimin...</td>\n",
       "      <td>NaN</td>\n",
       "    </tr>\n",
       "    <tr>\n",
       "      <th>1</th>\n",
       "      <td>s87</td>\n",
       "      <td>TV Show</td>\n",
       "      <td>Wipeout Canada</td>\n",
       "      <td>unknown</td>\n",
       "      <td>Ennis Esmer, Jonathan Torrens, Jessica Phillips</td>\n",
       "      <td>unknown</td>\n",
       "      <td>2011</td>\n",
       "      <td>G</td>\n",
       "      <td>1.0</td>\n",
       "      <td>Comedy, Documentary, Unscripted</td>\n",
       "      <td>Daring Canadian contestants are in pursuit of ...</td>\n",
       "      <td>NaN</td>\n",
       "    </tr>\n",
       "    <tr>\n",
       "      <th>2</th>\n",
       "      <td>s17</td>\n",
       "      <td>Movie</td>\n",
       "      <td>Zoombies</td>\n",
       "      <td>Glenn Miller</td>\n",
       "      <td>Marcus Anderson, Kaiwi Lyman, Andrew Asper</td>\n",
       "      <td>unknown</td>\n",
       "      <td>2016</td>\n",
       "      <td>13+</td>\n",
       "      <td>87.0</td>\n",
       "      <td>Horror, Science Fiction</td>\n",
       "      <td>When a strange virus quickly spreads through a...</td>\n",
       "      <td>NaN</td>\n",
       "    </tr>\n",
       "    <tr>\n",
       "      <th>3</th>\n",
       "      <td>s18</td>\n",
       "      <td>TV Show</td>\n",
       "      <td>Zoo Babies</td>\n",
       "      <td>unknown</td>\n",
       "      <td>Narrator - Gillian Barlett</td>\n",
       "      <td>unknown</td>\n",
       "      <td>2008</td>\n",
       "      <td>G</td>\n",
       "      <td>1.0</td>\n",
       "      <td>Kids, Special Interest</td>\n",
       "      <td>A heart warming and inspiring series that welc...</td>\n",
       "      <td>NaN</td>\n",
       "    </tr>\n",
       "    <tr>\n",
       "      <th>4</th>\n",
       "      <td>s19</td>\n",
       "      <td>TV Show</td>\n",
       "      <td>Zoë Coombs Marr: Bossy Bottom</td>\n",
       "      <td>unknown</td>\n",
       "      <td>Zoë Coombs Marr</td>\n",
       "      <td>unknown</td>\n",
       "      <td>2020</td>\n",
       "      <td>18+</td>\n",
       "      <td>1.0</td>\n",
       "      <td>Comedy, Talk Show and Variety</td>\n",
       "      <td>Zoë Coombs Marr has been on hiatus. Sort of. F...</td>\n",
       "      <td>NaN</td>\n",
       "    </tr>\n",
       "  </tbody>\n",
       "</table>\n",
       "</div>"
      ],
      "text/plain": [
       "  show_id     type                          title      director  \\\n",
       "0      s2    Movie           Take Care Good Night  Girish Joshi   \n",
       "1     s87  TV Show                 Wipeout Canada       unknown   \n",
       "2     s17    Movie                       Zoombies  Glenn Miller   \n",
       "3     s18  TV Show                     Zoo Babies       unknown   \n",
       "4     s19  TV Show  Zoë Coombs Marr: Bossy Bottom       unknown   \n",
       "\n",
       "                                               cast  country  release_year  \\\n",
       "0  Mahesh Manjrekar, Abhay Mahajan, Sachin Khedekar    India          2018   \n",
       "1   Ennis Esmer, Jonathan Torrens, Jessica Phillips  unknown          2011   \n",
       "2        Marcus Anderson, Kaiwi Lyman, Andrew Asper  unknown          2016   \n",
       "3                        Narrator - Gillian Barlett  unknown          2008   \n",
       "4                                   Zoë Coombs Marr  unknown          2020   \n",
       "\n",
       "  rating  duration                        listed_in  \\\n",
       "0    13+     110.0             Drama, International   \n",
       "1      G       1.0  Comedy, Documentary, Unscripted   \n",
       "2    13+      87.0          Horror, Science Fiction   \n",
       "3      G       1.0           Kids, Special Interest   \n",
       "4    18+       1.0    Comedy, Talk Show and Variety   \n",
       "\n",
       "                                         description date_added  \n",
       "0  A Metro Family decides to fight a Cyber Crimin...        NaN  \n",
       "1  Daring Canadian contestants are in pursuit of ...        NaN  \n",
       "2  When a strange virus quickly spreads through a...        NaN  \n",
       "3  A heart warming and inspiring series that welc...        NaN  \n",
       "4  Zoë Coombs Marr has been on hiatus. Sort of. F...        NaN  "
      ]
     },
     "execution_count": 2,
     "metadata": {},
     "output_type": "execute_result"
    }
   ],
   "source": [
    "df = pd.concat([df_amazon,df_netflix], axis=0, ignore_index=True)\n",
    "df = pd.concat([df, df_hulu], axis=0, ignore_index=True)\n",
    "df = pd.concat([df, df_disney], axis=0, ignore_index=True)\n",
    "df.drop('Unnamed: 0', axis=1, inplace=True)\n",
    "df.dropna(subset='rating', inplace=True)\n",
    "df.head()"
   ]
  },
  {
   "cell_type": "code",
   "execution_count": 3,
   "id": "46abbd9e-0915-4d0a-8f71-c82ef90017ee",
   "metadata": {},
   "outputs": [
    {
     "name": "stdout",
     "output_type": "stream",
     "text": [
      "<class 'pandas.core.frame.DataFrame'>\n",
      "Int64Index: 22121 entries, 0 to 22126\n",
      "Data columns (total 12 columns):\n",
      " #   Column        Non-Null Count  Dtype  \n",
      "---  ------        --------------  -----  \n",
      " 0   show_id       22121 non-null  object \n",
      " 1   type          22121 non-null  object \n",
      " 2   title         22121 non-null  object \n",
      " 3   director      19568 non-null  object \n",
      " 4   cast          19379 non-null  object \n",
      " 5   country       21173 non-null  object \n",
      " 6   release_year  22121 non-null  int64  \n",
      " 7   rating        22121 non-null  object \n",
      " 8   duration      21748 non-null  float64\n",
      " 9   listed_in     22121 non-null  object \n",
      " 10  description   22120 non-null  object \n",
      " 11  date_added    12759 non-null  object \n",
      "dtypes: float64(1), int64(1), object(10)\n",
      "memory usage: 2.2+ MB\n"
     ]
    }
   ],
   "source": [
    "df.info()"
   ]
  },
  {
   "cell_type": "code",
   "execution_count": 4,
   "id": "31d1f701-c246-4630-80b3-08554600f6c1",
   "metadata": {},
   "outputs": [],
   "source": [
    "# fill duration nulls with the mode\n",
    "df['duration'] = df['duration'].fillna(df['duration'].mode()[0])\n",
    "df['duration'] = df['duration'].astype(int)\n",
    "# Change values in director and cast to empty string\n",
    "df['director'] = df['director'].fillna('unknown')\n",
    "df['cast'] = df['cast'].fillna('unknown')"
   ]
  },
  {
   "cell_type": "code",
   "execution_count": 5,
   "id": "1505debd-68e9-4fc9-9ffe-11cccd34cdc1",
   "metadata": {},
   "outputs": [],
   "source": [
    "# define function to clean rating col\n",
    "def clean_rating(string):\n",
    "    try:\n",
    "        if string == 'NOT RATED':\n",
    "            return 'NR'\n",
    "        elif 'min' in string or 'Season' in string:\n",
    "            return 'unknown'\n",
    "        return string\n",
    "    except TypeError:\n",
    "        return 'unknown'"
   ]
  },
  {
   "cell_type": "code",
   "execution_count": 6,
   "id": "5c5c9666-d8b1-4c01-956d-dc0b89580ca1",
   "metadata": {},
   "outputs": [
    {
     "data": {
      "text/plain": [
       "array(['13+', 'G', '18+', 'R', 'TV-Y', 'TV-Y7', 'NR', '16+', 'TV-PG',\n",
       "       '7+', 'TV-14', 'TV-NR', 'TV-G', 'PG-13', 'TV-MA', 'PG', 'NC-17',\n",
       "       'UR', 'TV-Y7-FV', 'unknown'], dtype=object)"
      ]
     },
     "execution_count": 6,
     "metadata": {},
     "output_type": "execute_result"
    }
   ],
   "source": [
    "df['rating'] = df['rating'].apply(clean_rating)\n",
    "df['rating'].unique()"
   ]
  },
  {
   "cell_type": "code",
   "execution_count": 7,
   "id": "95c60a0e-4b3c-44eb-9875-1273ba551078",
   "metadata": {},
   "outputs": [],
   "source": [
    "# define function to get main genre\n",
    "def get_genre(string):\n",
    "    genre = string.split(',')[0]\n",
    "    return genre\n",
    "    "
   ]
  },
  {
   "cell_type": "code",
   "execution_count": 13,
   "id": "75322371-aaac-4559-9c48-dfbe191aa008",
   "metadata": {},
   "outputs": [
    {
     "data": {
      "text/plain": [
       "array(['Drama', 'Comedy', 'Horror', 'Kids', 'Science Fiction', 'Action',\n",
       "       'Arts', 'TV Shows', 'Documentary', 'Animation', 'Anime', 'Fitness',\n",
       "       'Music Videos and Concerts', 'Faith and Spirituality',\n",
       "       'Special Interest', 'Adventure', 'Fantasy', 'Suspense',\n",
       "       'Unscripted', 'Western', 'Arthouse', 'Sports', 'Military and War',\n",
       "       'International', 'Romance', 'Young Adult Audience',\n",
       "       'Talk Show and Variety', 'LGBTQ', 'Historical', 'Documentaries',\n",
       "       'International TV Shows', 'Crime TV Shows', 'Docuseries',\n",
       "       'TV Dramas', 'Children & Family Movies', 'Dramas',\n",
       "       'British TV Shows', 'Comedies', 'TV Comedies', 'Thrillers',\n",
       "       'Horror Movies', \"Kids' TV\", 'Action & Adventure', 'Reality TV',\n",
       "       'Anime Series', 'International Movies', 'Sci-Fi & Fantasy',\n",
       "       'Classic Movies', 'Stand-Up Comedy', 'TV Action & Adventure',\n",
       "       'Movies', 'Stand-Up Comedy & Talk Shows', 'Classic & Cult TV',\n",
       "       'Anime Features', 'Romantic TV Shows', 'Cult Movies',\n",
       "       'Independent Movies', 'TV Horror', 'Spanish-Language TV Shows',\n",
       "       'Music & Musicals', 'Romantic Movies', 'LGBTQ Movies',\n",
       "       'TV Sci-Fi & Fantasy', 'Sports Movies', 'Reality', 'History',\n",
       "       'Thriller', 'Health & Wellness', 'Black Stories', 'Latino',\n",
       "       'Crime', 'News', 'Classics', 'Adult Animation', 'Music', 'Family',\n",
       "       'Cooking & Food', 'Game Shows', 'Lifestyle & Culture', 'Mystery',\n",
       "       'Cartoons', 'Science & Technology', 'Musical', 'Biographical',\n",
       "       'Action-Adventure', 'Animals & Nature', 'Lifestyle',\n",
       "       'Coming of Age', 'Concert Film', 'Anthology', 'Talk Show',\n",
       "       'Series', 'Buddy', 'Game Show / Competition', 'Variety', 'Dance'],\n",
       "      dtype=object)"
      ]
     },
     "execution_count": 13,
     "metadata": {},
     "output_type": "execute_result"
    }
   ],
   "source": [
    "df['main_genre'] = df['listed_in'].apply(get_genre)\n",
    "df['main_genre'].unique()"
   ]
  },
  {
   "cell_type": "code",
   "execution_count": 9,
   "id": "3e199884-8992-406b-bfe7-2dfb38426f1e",
   "metadata": {},
   "outputs": [
    {
     "name": "stdout",
     "output_type": "stream",
     "text": [
      "<class 'pandas.core.frame.DataFrame'>\n",
      "Int64Index: 22121 entries, 0 to 22126\n",
      "Data columns (total 13 columns):\n",
      " #   Column        Non-Null Count  Dtype \n",
      "---  ------        --------------  ----- \n",
      " 0   show_id       22121 non-null  object\n",
      " 1   type          22121 non-null  object\n",
      " 2   title         22121 non-null  object\n",
      " 3   director      22121 non-null  object\n",
      " 4   cast          22121 non-null  object\n",
      " 5   country       21173 non-null  object\n",
      " 6   release_year  22121 non-null  int64 \n",
      " 7   rating        22121 non-null  object\n",
      " 8   duration      22121 non-null  int32 \n",
      " 9   listed_in     22121 non-null  object\n",
      " 10  description   22120 non-null  object\n",
      " 11  date_added    12759 non-null  object\n",
      " 12  main_genre    22121 non-null  object\n",
      "dtypes: int32(1), int64(1), object(11)\n",
      "memory usage: 2.3+ MB\n"
     ]
    }
   ],
   "source": [
    "df.info()"
   ]
  },
  {
   "cell_type": "code",
   "execution_count": 10,
   "id": "0ada865f-8bd3-4307-b3b3-91e8e8c30a56",
   "metadata": {
    "tags": []
   },
   "outputs": [
    {
     "name": "stdout",
     "output_type": "stream",
     "text": [
      "<class 'pandas.core.frame.DataFrame'>\n",
      "Int64Index: 22121 entries, 0 to 22126\n",
      "Data columns (total 13 columns):\n",
      " #   Column        Non-Null Count  Dtype \n",
      "---  ------        --------------  ----- \n",
      " 0   show_id       22121 non-null  string\n",
      " 1   type          22121 non-null  string\n",
      " 2   title         22121 non-null  string\n",
      " 3   director      22121 non-null  string\n",
      " 4   cast          22121 non-null  string\n",
      " 5   country       21173 non-null  string\n",
      " 6   release_year  22121 non-null  Int64 \n",
      " 7   rating        22121 non-null  string\n",
      " 8   duration      22121 non-null  Int32 \n",
      " 9   listed_in     22121 non-null  string\n",
      " 10  description   22120 non-null  string\n",
      " 11  date_added    12759 non-null  string\n",
      " 12  main_genre    22121 non-null  string\n",
      "dtypes: Int32(1), Int64(1), string(11)\n",
      "memory usage: 2.3 MB\n"
     ]
    }
   ],
   "source": [
    "df = df.convert_dtypes()\n",
    "df.info()"
   ]
  },
  {
   "cell_type": "code",
   "execution_count": 11,
   "id": "104e6234-bdf2-4483-8f91-e415286cf9c0",
   "metadata": {},
   "outputs": [
    {
     "data": {
      "text/plain": [
       "<StringArray>\n",
       "['Movie', 'TV Show']\n",
       "Length: 2, dtype: string"
      ]
     },
     "execution_count": 11,
     "metadata": {},
     "output_type": "execute_result"
    }
   ],
   "source": [
    "df['type'].unique()"
   ]
  },
  {
   "cell_type": "code",
   "execution_count": 12,
   "id": "cd31760a-dc8e-4298-9338-cd025b9064e2",
   "metadata": {},
   "outputs": [],
   "source": [
    "df.to_csv('cleaned_data/df_merged_clean.csv', index=False)"
   ]
  },
  {
   "cell_type": "code",
   "execution_count": null,
   "id": "e3a4823d-9f96-4a66-8447-fa8ed3b79dd2",
   "metadata": {},
   "outputs": [],
   "source": []
  }
 ],
 "metadata": {
  "kernelspec": {
   "display_name": "Python 3 (ipykernel)",
   "language": "python",
   "name": "python3"
  },
  "language_info": {
   "codemirror_mode": {
    "name": "ipython",
    "version": 3
   },
   "file_extension": ".py",
   "mimetype": "text/x-python",
   "name": "python",
   "nbconvert_exporter": "python",
   "pygments_lexer": "ipython3",
   "version": "3.10.11"
  }
 },
 "nbformat": 4,
 "nbformat_minor": 5
}
