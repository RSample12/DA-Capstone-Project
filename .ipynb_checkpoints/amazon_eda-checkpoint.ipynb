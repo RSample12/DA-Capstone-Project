{
 "cells": [
  {
   "cell_type": "markdown",
   "id": "ba4bac52-408f-4876-a929-a30b49ecd890",
   "metadata": {},
   "source": [
    "# Amazon Dataset Cleaning"
   ]
  },
  {
   "cell_type": "code",
   "execution_count": null,
   "id": "1bf5804d-db3e-4a0f-9d0a-1d83ba6883a2",
   "metadata": {},
   "outputs": [],
   "source": [
    "# imports\n",
    "import pandas as pd\n",
    "import numpy as np\n",
    "from sqlalchemy import create_engine, text"
   ]
  },
  {
   "cell_type": "markdown",
   "id": "e03abeee-69ba-4ed7-a9bb-1f882050b222",
   "metadata": {},
   "source": [
    "## Import SQL Data Using Sqlalchemy"
   ]
  },
  {
   "cell_type": "code",
   "execution_count": null,
   "id": "20c195d6-30ed-4ea0-b174-432b7c0e34da",
   "metadata": {},
   "outputs": [],
   "source": [
    "# Database credentials\n",
    "username = 'postgres'\n",
    "password = 'hellosql'\n",
    "host = 'localhost'\n",
    "port = '5433'\n",
    "database = 'da_project_streaming'\n",
    "\n",
    "# Connection String\n",
    "connection_string = f'postgresql+psycopg2://{username}:{password}@{host}:{port}/{database}'\n",
    "\n",
    "# Engine\n",
    "engine = create_engine(connection_string)"
   ]
  },
  {
   "cell_type": "code",
   "execution_count": null,
   "id": "7d73ffe1-6f66-44d2-ab3e-fa49b132463c",
   "metadata": {},
   "outputs": [],
   "source": [
    "# select all from amazon database\n",
    "query = \"SELECT * FROM amazon_prime_titles\"\n",
    "df_amazon = pd.DataFrame(engine.connect().execute(text(query)))"
   ]
  },
  {
   "cell_type": "code",
   "execution_count": null,
   "id": "0534826f-5ed8-4856-90eb-784dd4d054ff",
   "metadata": {},
   "outputs": [],
   "source": [
    "df_amazon.head()"
   ]
  },
  {
   "cell_type": "markdown",
   "id": "f18f2471-d400-45f8-9ebd-19cfdafea24e",
   "metadata": {},
   "source": [
    "## Check for Duplicates/ NULL Values"
   ]
  },
  {
   "cell_type": "code",
   "execution_count": null,
   "id": "a453065d-16fb-43f1-8806-b6e10a3b6819",
   "metadata": {},
   "outputs": [],
   "source": [
    "df_amazon.duplicated().sum() # No duplicated values"
   ]
  },
  {
   "cell_type": "code",
   "execution_count": null,
   "id": "266cb55a-1d77-4eaf-8f20-c17f61373d05",
   "metadata": {},
   "outputs": [],
   "source": [
    "df_amazon.isna().sum()"
   ]
  },
  {
   "cell_type": "code",
   "execution_count": null,
   "id": "dcfd0ec1-2a59-4028-83a7-75a5a3d88a62",
   "metadata": {},
   "outputs": [],
   "source": [
    "df_amazon.info()"
   ]
  },
  {
   "cell_type": "markdown",
   "id": "1e6e5d51-82b4-4c8a-a1c7-cd6b6678d19c",
   "metadata": {},
   "source": [
    "# Clean Data"
   ]
  },
  {
   "cell_type": "code",
   "execution_count": null,
   "id": "1acd2bf6-cee9-4fd2-92bd-9a5e88c15408",
   "metadata": {},
   "outputs": [],
   "source": [
    "# drop some null values\n",
    "df_amazon.dropna(subset='rating', inplace=True)\n",
    "df_amazon.drop('date_added', axis=1, inplace=True) # date_added mostly null so drop\n",
    "df_amazon.dropna(subset='country', inplace=True) # drop col because of small amount of hard to use data\n",
    "# fill unknown director and cast with empty str\n",
    "df_amazon['director'] = df_amazon['director'].fillna('')\n",
    "df_amazon['cast'] = df_amazon['cast'].fillna('')\n",
    "df_amazon.info()"
   ]
  },
  {
   "cell_type": "code",
   "execution_count": null,
   "id": "175db2e8-7606-4e92-a2ee-40d2f40f3674",
   "metadata": {},
   "outputs": [],
   "source": [
    "df_amazon['rating'].unique()"
   ]
  },
  {
   "cell_type": "code",
   "execution_count": null,
   "id": "70199ae1-29eb-4fe7-990c-b64d8804654e",
   "metadata": {},
   "outputs": [],
   "source": [
    "# Fix rating for shows so there are not multiple that mean the same thing\n",
    "def fix_ratings(string):\n",
    "    if string == 'ALL_AGES' or string == 'ALL':\n",
    "        return 'G'\n",
    "    elif string == 'NOT_RATE':\n",
    "        return 'NR'\n",
    "    elif string == 'UNRATED':\n",
    "        return 'UR'\n",
    "    elif string == '16' or string == 'AGES_16_':\n",
    "        return '16+'\n",
    "    elif string == 'AGES_18_':\n",
    "        return '18+'\n",
    "    else:\n",
    "        return string"
   ]
  },
  {
   "cell_type": "code",
   "execution_count": null,
   "id": "0f9c9839-e0cf-404b-9e07-082994509e40",
   "metadata": {},
   "outputs": [],
   "source": [
    "# apply function to normalize ratings\n",
    "df_amazon['rating'] = df_amazon['rating'].apply(fix_ratings)\n",
    "df_amazon['rating'].unique()"
   ]
  },
  {
   "cell_type": "code",
   "execution_count": null,
   "id": "7834d409-bbf7-4cf9-acbd-c3432cf2cacb",
   "metadata": {},
   "outputs": [],
   "source": [
    "df_amazon.isna().sum()"
   ]
  },
  {
   "cell_type": "code",
   "execution_count": null,
   "id": "905b1dbc-83c4-433d-894b-e8f1d7bbf4a4",
   "metadata": {},
   "outputs": [],
   "source": [
    "def new_duration(string):\n",
    "    return int(string.split()[0])"
   ]
  },
  {
   "cell_type": "code",
   "execution_count": null,
   "id": "6640d728-655f-49d5-8169-6329724da797",
   "metadata": {},
   "outputs": [],
   "source": [
    "df_amazon['int_duration'] = df_amazon['duration'].apply(new_duration)\n",
    "df_amazon['int_duration'].head()"
   ]
  },
  {
   "cell_type": "code",
   "execution_count": null,
   "id": "335f0a82-b846-45b5-a591-ef56f4045fad",
   "metadata": {},
   "outputs": [],
   "source": [
    "df_shows = df_amazon[df_amazon['type'] == 'TV Show']\n",
    "df_shows.head()"
   ]
  },
  {
   "cell_type": "code",
   "execution_count": null,
   "id": "044313a1-33c6-428b-8a27-8dd4f720fb4e",
   "metadata": {},
   "outputs": [],
   "source": [
    "df_movies = df_amazon[df_amazon['type'] == 'Movie']\n",
    "df_movies.head()"
   ]
  },
  {
   "cell_type": "code",
   "execution_count": null,
   "id": "7dcca78a-367b-4445-9552-c300ea7ffeb1",
   "metadata": {},
   "outputs": [],
   "source": [
    "# exoprt data to csv\n",
    "df_amazon.to_csv('cleaned_data/amazon_data_clean.csv')"
   ]
  },
  {
   "cell_type": "markdown",
   "id": "25fff6e8-0a8a-4f6a-950d-61658809b886",
   "metadata": {},
   "source": [
    "## Visualizations"
   ]
  },
  {
   "cell_type": "code",
   "execution_count": null,
   "id": "aecbd6f5-ff7c-4e2f-b7ce-b9a640312d18",
   "metadata": {},
   "outputs": [],
   "source": [
    "print('Correlation between release year and duration (Movies):', df_movies['release_year'].corr(df_movies['int_duration']))\n",
    "df_movies.describe()"
   ]
  },
  {
   "cell_type": "code",
   "execution_count": null,
   "id": "013cd086-c6a4-456f-bd85-a72a71b26178",
   "metadata": {},
   "outputs": [],
   "source": [
    "print('Correlation between release year and duration (Movies):', df_shows['release_year'].corr(df_shows['int_duration']))\n",
    "df_shows.describe()"
   ]
  },
  {
   "cell_type": "code",
   "execution_count": null,
   "id": "b032e039-6eea-4f65-8a88-96c231864c33",
   "metadata": {},
   "outputs": [],
   "source": [
    "# initial distribution visualizations\n",
    "import seaborn as sns\n",
    "import matplotlib.pyplot as plt\n",
    "\n",
    "sns.pairplot(data=df_shows, diag_kind='kde', height=4, aspect=1)"
   ]
  },
  {
   "cell_type": "code",
   "execution_count": null,
   "id": "b6d2e55f-599f-4667-840c-6b6afb19d0a6",
   "metadata": {},
   "outputs": [],
   "source": [
    "sns.pairplot(data=df_movies, diag_kind='kde', height=4, aspect=1)"
   ]
  },
  {
   "cell_type": "code",
   "execution_count": null,
   "id": "d8d7a4bb-eebd-4ce3-9a50-ba1e10d0ae5c",
   "metadata": {},
   "outputs": [],
   "source": [
    "plt.figure(figsize=(12,6))\n",
    "sns.lineplot(data=df_shows, x='release_year', y='int_duration')\n",
    "plt.title('TV Show Duration Over Time')\n",
    "plt.xlabel('Release Year')\n",
    "plt.ylabel('Duration (Seasons)')\n",
    "plt.show()"
   ]
  },
  {
   "cell_type": "code",
   "execution_count": null,
   "id": "0c37c208-e8be-4035-b342-40a3e8038269",
   "metadata": {},
   "outputs": [],
   "source": [
    "plt.figure(figsize=(12,6))\n",
    "sns.lineplot(data=df_movies, x='release_year', y='int_duration')\n",
    "plt.title('TV Show Duration Over Time')\n",
    "plt.xlabel('Release Year')\n",
    "plt.ylabel('Duration (Seasons)')\n",
    "plt.show()"
   ]
  },
  {
   "cell_type": "code",
   "execution_count": null,
   "id": "b6b3562a-ca22-49a2-aea0-c6a486847c50",
   "metadata": {},
   "outputs": [],
   "source": [
    "plt.figure(figsize=(12,6))\n",
    "sns.barplot(data=df_shows, x='rating', y='int_duration')\n",
    "plt.title('Duration by Rating (Shows)')\n",
    "plt.xlabel('Rating')\n",
    "plt.ylabel('Duration (Seasons)')\n",
    "plt.show()"
   ]
  },
  {
   "cell_type": "code",
   "execution_count": null,
   "id": "7e94f9d4-f22d-4223-bfc6-c2da9daa9cf3",
   "metadata": {},
   "outputs": [],
   "source": [
    "plt.figure(figsize=(12,6))\n",
    "sns.barplot(data=df_movies, x='rating', y='int_duration')\n",
    "plt.title('Duration by Rating (Movies)')\n",
    "plt.xlabel('Rating')\n",
    "plt.ylabel('Duration (Minutes)')\n",
    "plt.show()"
   ]
  },
  {
   "cell_type": "code",
   "execution_count": null,
   "id": "374b27b9-29ef-4aa9-9ea7-35a231b33276",
   "metadata": {},
   "outputs": [],
   "source": []
  }
 ],
 "metadata": {
  "kernelspec": {
   "display_name": "Python 3 (ipykernel)",
   "language": "python",
   "name": "python3"
  },
  "language_info": {
   "codemirror_mode": {
    "name": "ipython",
    "version": 3
   },
   "file_extension": ".py",
   "mimetype": "text/x-python",
   "name": "python",
   "nbconvert_exporter": "python",
   "pygments_lexer": "ipython3",
   "version": "3.10.11"
  }
 },
 "nbformat": 4,
 "nbformat_minor": 5
}
