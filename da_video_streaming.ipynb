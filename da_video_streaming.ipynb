{
 "cells": [
  {
   "cell_type": "code",
   "execution_count": 1,
   "id": "aca0c998-ecbd-4228-ba82-333e3fce3160",
   "metadata": {},
   "outputs": [],
   "source": [
    "# imports\n",
    "import pandas as pd\n",
    "import numpy as np\n",
    "from sqlalchemy import create_engine, text"
   ]
  },
  {
   "cell_type": "code",
   "execution_count": 2,
   "id": "20c195d6-30ed-4ea0-b174-432b7c0e34da",
   "metadata": {},
   "outputs": [],
   "source": [
    "# Database credentials\n",
    "username = 'postgres'\n",
    "password = 'hellosql'\n",
    "host = 'localhost'\n",
    "port = '5433'\n",
    "database = 'da_project_streaming'\n",
    "\n",
    "# Connection String\n",
    "connection_string = f'postgresql+psycopg2://{username}:{password}@{host}:{port}/{database}'\n",
    "\n",
    "# Engine\n",
    "engine = create_engine(connection_string)"
   ]
  },
  {
   "cell_type": "code",
   "execution_count": 3,
   "id": "7d73ffe1-6f66-44d2-ab3e-fa49b132463c",
   "metadata": {},
   "outputs": [],
   "source": [
    "# select all from amazon database\n",
    "query = \"SELECT * FROM amazon_prime_titles\"\n",
    "df_amazon = pd.DataFrame(engine.connect().execute(text(query)))"
   ]
  },
  {
   "cell_type": "code",
   "execution_count": 4,
   "id": "0534826f-5ed8-4856-90eb-784dd4d054ff",
   "metadata": {},
   "outputs": [
    {
     "data": {
      "text/html": [
       "<div>\n",
       "<style scoped>\n",
       "    .dataframe tbody tr th:only-of-type {\n",
       "        vertical-align: middle;\n",
       "    }\n",
       "\n",
       "    .dataframe tbody tr th {\n",
       "        vertical-align: top;\n",
       "    }\n",
       "\n",
       "    .dataframe thead th {\n",
       "        text-align: right;\n",
       "    }\n",
       "</style>\n",
       "<table border=\"1\" class=\"dataframe\">\n",
       "  <thead>\n",
       "    <tr style=\"text-align: right;\">\n",
       "      <th></th>\n",
       "      <th>show_id</th>\n",
       "      <th>type</th>\n",
       "      <th>title</th>\n",
       "      <th>director</th>\n",
       "      <th>cast</th>\n",
       "      <th>country</th>\n",
       "      <th>date_added</th>\n",
       "      <th>release_year</th>\n",
       "      <th>rating</th>\n",
       "      <th>duration</th>\n",
       "      <th>listed_in</th>\n",
       "      <th>description</th>\n",
       "    </tr>\n",
       "  </thead>\n",
       "  <tbody>\n",
       "    <tr>\n",
       "      <th>0</th>\n",
       "      <td>s1</td>\n",
       "      <td>Movie</td>\n",
       "      <td>The Grand Seduction</td>\n",
       "      <td>Don McKellar</td>\n",
       "      <td>Brendan Gleeson, Taylor Kitsch, Gordon Pinsent</td>\n",
       "      <td>Canada</td>\n",
       "      <td>March 30, 2021</td>\n",
       "      <td>2014</td>\n",
       "      <td>None</td>\n",
       "      <td>113 min</td>\n",
       "      <td>Comedy, Drama</td>\n",
       "      <td>A small fishing village must procure a local d...</td>\n",
       "    </tr>\n",
       "    <tr>\n",
       "      <th>1</th>\n",
       "      <td>s2</td>\n",
       "      <td>Movie</td>\n",
       "      <td>Take Care Good Night</td>\n",
       "      <td>Girish Joshi</td>\n",
       "      <td>Mahesh Manjrekar, Abhay Mahajan, Sachin Khedekar</td>\n",
       "      <td>India</td>\n",
       "      <td>March 30, 2021</td>\n",
       "      <td>2018</td>\n",
       "      <td>13+</td>\n",
       "      <td>110 min</td>\n",
       "      <td>Drama, International</td>\n",
       "      <td>A Metro Family decides to fight a Cyber Crimin...</td>\n",
       "    </tr>\n",
       "    <tr>\n",
       "      <th>2</th>\n",
       "      <td>s3</td>\n",
       "      <td>Movie</td>\n",
       "      <td>Secrets of Deception</td>\n",
       "      <td>Josh Webber</td>\n",
       "      <td>Tom Sizemore, Lorenzo Lamas, Robert LaSardo, R...</td>\n",
       "      <td>United States</td>\n",
       "      <td>March 30, 2021</td>\n",
       "      <td>2017</td>\n",
       "      <td>None</td>\n",
       "      <td>74 min</td>\n",
       "      <td>Action, Drama, Suspense</td>\n",
       "      <td>After a man discovers his wife is cheating on ...</td>\n",
       "    </tr>\n",
       "    <tr>\n",
       "      <th>3</th>\n",
       "      <td>s4</td>\n",
       "      <td>Movie</td>\n",
       "      <td>Pink: Staying True</td>\n",
       "      <td>Sonia Anderson</td>\n",
       "      <td>Interviews with: Pink, Adele, Beyoncé, Britney...</td>\n",
       "      <td>United States</td>\n",
       "      <td>March 30, 2021</td>\n",
       "      <td>2014</td>\n",
       "      <td>None</td>\n",
       "      <td>69 min</td>\n",
       "      <td>Documentary</td>\n",
       "      <td>Pink breaks the mold once again, bringing her ...</td>\n",
       "    </tr>\n",
       "    <tr>\n",
       "      <th>4</th>\n",
       "      <td>s5</td>\n",
       "      <td>Movie</td>\n",
       "      <td>Monster Maker</td>\n",
       "      <td>Giles Foster</td>\n",
       "      <td>Harry Dean Stanton, Kieran O'Brien, George Cos...</td>\n",
       "      <td>United Kingdom</td>\n",
       "      <td>March 30, 2021</td>\n",
       "      <td>1989</td>\n",
       "      <td>None</td>\n",
       "      <td>45 min</td>\n",
       "      <td>Drama, Fantasy</td>\n",
       "      <td>Teenage Matt Banting wants to work with a famo...</td>\n",
       "    </tr>\n",
       "  </tbody>\n",
       "</table>\n",
       "</div>"
      ],
      "text/plain": [
       "  show_id   type                 title        director  \\\n",
       "0      s1  Movie   The Grand Seduction    Don McKellar   \n",
       "1      s2  Movie  Take Care Good Night    Girish Joshi   \n",
       "2      s3  Movie  Secrets of Deception     Josh Webber   \n",
       "3      s4  Movie    Pink: Staying True  Sonia Anderson   \n",
       "4      s5  Movie         Monster Maker    Giles Foster   \n",
       "\n",
       "                                                cast         country  \\\n",
       "0     Brendan Gleeson, Taylor Kitsch, Gordon Pinsent          Canada   \n",
       "1   Mahesh Manjrekar, Abhay Mahajan, Sachin Khedekar           India   \n",
       "2  Tom Sizemore, Lorenzo Lamas, Robert LaSardo, R...   United States   \n",
       "3  Interviews with: Pink, Adele, Beyoncé, Britney...   United States   \n",
       "4  Harry Dean Stanton, Kieran O'Brien, George Cos...  United Kingdom   \n",
       "\n",
       "       date_added  release_year rating duration                listed_in  \\\n",
       "0  March 30, 2021          2014   None  113 min            Comedy, Drama   \n",
       "1  March 30, 2021          2018    13+  110 min     Drama, International   \n",
       "2  March 30, 2021          2017   None   74 min  Action, Drama, Suspense   \n",
       "3  March 30, 2021          2014   None   69 min              Documentary   \n",
       "4  March 30, 2021          1989   None   45 min           Drama, Fantasy   \n",
       "\n",
       "                                         description  \n",
       "0  A small fishing village must procure a local d...  \n",
       "1  A Metro Family decides to fight a Cyber Crimin...  \n",
       "2  After a man discovers his wife is cheating on ...  \n",
       "3  Pink breaks the mold once again, bringing her ...  \n",
       "4  Teenage Matt Banting wants to work with a famo...  "
      ]
     },
     "execution_count": 4,
     "metadata": {},
     "output_type": "execute_result"
    }
   ],
   "source": [
    "df_amazon.head()"
   ]
  },
  {
   "cell_type": "code",
   "execution_count": 5,
   "id": "a453065d-16fb-43f1-8806-b6e10a3b6819",
   "metadata": {},
   "outputs": [
    {
     "data": {
      "text/plain": [
       "0"
      ]
     },
     "execution_count": 5,
     "metadata": {},
     "output_type": "execute_result"
    }
   ],
   "source": [
    "df_amazon.duplicated().sum() # No duplicated values"
   ]
  },
  {
   "cell_type": "code",
   "execution_count": 6,
   "id": "266cb55a-1d77-4eaf-8f20-c17f61373d05",
   "metadata": {},
   "outputs": [
    {
     "data": {
      "text/plain": [
       "show_id            0\n",
       "type               0\n",
       "title              0\n",
       "director        2082\n",
       "cast            1233\n",
       "country         8996\n",
       "date_added      9513\n",
       "release_year       0\n",
       "rating           337\n",
       "duration           0\n",
       "listed_in          0\n",
       "description        0\n",
       "dtype: int64"
      ]
     },
     "execution_count": 6,
     "metadata": {},
     "output_type": "execute_result"
    }
   ],
   "source": [
    "df_amazon.isna().sum()"
   ]
  },
  {
   "cell_type": "code",
   "execution_count": 7,
   "id": "dcfd0ec1-2a59-4028-83a7-75a5a3d88a62",
   "metadata": {},
   "outputs": [
    {
     "name": "stdout",
     "output_type": "stream",
     "text": [
      "<class 'pandas.core.frame.DataFrame'>\n",
      "RangeIndex: 9668 entries, 0 to 9667\n",
      "Data columns (total 12 columns):\n",
      " #   Column        Non-Null Count  Dtype \n",
      "---  ------        --------------  ----- \n",
      " 0   show_id       9668 non-null   object\n",
      " 1   type          9668 non-null   object\n",
      " 2   title         9668 non-null   object\n",
      " 3   director      7586 non-null   object\n",
      " 4   cast          8435 non-null   object\n",
      " 5   country       672 non-null    object\n",
      " 6   date_added    155 non-null    object\n",
      " 7   release_year  9668 non-null   int64 \n",
      " 8   rating        9331 non-null   object\n",
      " 9   duration      9668 non-null   object\n",
      " 10  listed_in     9668 non-null   object\n",
      " 11  description   9668 non-null   object\n",
      "dtypes: int64(1), object(11)\n",
      "memory usage: 906.5+ KB\n"
     ]
    }
   ],
   "source": [
    "df_amazon.info()"
   ]
  },
  {
   "cell_type": "code",
   "execution_count": 8,
   "id": "1acd2bf6-cee9-4fd2-92bd-9a5e88c15408",
   "metadata": {},
   "outputs": [
    {
     "name": "stdout",
     "output_type": "stream",
     "text": [
      "<class 'pandas.core.frame.DataFrame'>\n",
      "Int64Index: 9331 entries, 1 to 9667\n",
      "Data columns (total 11 columns):\n",
      " #   Column        Non-Null Count  Dtype \n",
      "---  ------        --------------  ----- \n",
      " 0   show_id       9331 non-null   object\n",
      " 1   type          9331 non-null   object\n",
      " 2   title         9331 non-null   object\n",
      " 3   director      9331 non-null   object\n",
      " 4   cast          9331 non-null   object\n",
      " 5   country       9331 non-null   object\n",
      " 6   release_year  9331 non-null   int64 \n",
      " 7   rating        9331 non-null   object\n",
      " 8   duration      9331 non-null   object\n",
      " 9   listed_in     9331 non-null   object\n",
      " 10  description   9331 non-null   object\n",
      "dtypes: int64(1), object(10)\n",
      "memory usage: 874.8+ KB\n"
     ]
    }
   ],
   "source": [
    "# drop some null values\n",
    "df_amazon.dropna(subset='rating', inplace=True)\n",
    "df_amazon.drop('date_added', axis=1, inplace=True) # date added mostly null so drop\n",
    "df_amazon = df_amazon.fillna('') # fill na with empty string values\n",
    "df_amazon.info()"
   ]
  },
  {
   "cell_type": "code",
   "execution_count": 9,
   "id": "00275c6f-21ba-4b63-9500-7ccca7531646",
   "metadata": {},
   "outputs": [
    {
     "data": {
      "text/plain": [
       "array(['110 min', '1 Season', '87 min', '104 min', '62 min', '94 min',\n",
       "       '50 min', '3 Seasons', '2 Seasons', '6 min', '86 min', '36 min',\n",
       "       '37 min', '103 min', '9 min', '18 min', '14 min', '20 min',\n",
       "       '19 min', '22 min', '60 min', '54 min', '5 min', '84 min',\n",
       "       '126 min', '125 min', '109 min', '89 min', '85 min', '40 min',\n",
       "       '111 min', '33 min', '34 min', '95 min', '99 min', '78 min',\n",
       "       '4 Seasons', '77 min', '55 min', '53 min', '115 min', '58 min',\n",
       "       '49 min', '135 min', '91 min', '64 min', '131 min', '59 min',\n",
       "       '52 min', '122 min', '92 min', '90 min', '102 min', '65 min',\n",
       "       '114 min', '56 min', '136 min', '70 min', '138 min', '113 min',\n",
       "       '100 min', '480 min', '4 min', '30 min', '152 min', '68 min',\n",
       "       '57 min', '96 min', '7 Seasons', '98 min', '88 min', '31 min',\n",
       "       '151 min', '149 min', '9 Seasons', '35 min', '141 min', '121 min',\n",
       "       '48 min', '140 min', '46 min', '51 min', '106 min', '93 min',\n",
       "       '27 min', '69 min', '107 min', '108 min', '38 min', '15 min',\n",
       "       '157 min', '43 min', '118 min', '6 Seasons', '112 min',\n",
       "       '5 Seasons', '116 min', '142 min', '75 min', '71 min', '42 min',\n",
       "       '81 min', '32 min', '66 min', '159 min', '67 min', '29 min',\n",
       "       '132 min', '101 min', '164 min', '73 min', '26 min', '80 min',\n",
       "       '61 min', '79 min', '83 min', '44 min', '45 min', '120 min',\n",
       "       '97 min', '74 min', '23 min', '105 min', '25 min', '82 min',\n",
       "       '11 min', '127 min', '161 min', '72 min', '123 min', '29 Seasons',\n",
       "       '0 min', '124 min', '143 min', '47 min', '170 min', '19 Seasons',\n",
       "       '3 min', '146 min', '601 min', '21 Seasons', '154 min', '128 min',\n",
       "       '133 min', '153 min', '148 min', '144 min', '119 min', '63 min',\n",
       "       '169 min', '8 Seasons', '174 min', '7 min', '137 min', '76 min',\n",
       "       '39 min', '12 Seasons', '134 min', '163 min', '139 min', '1 min',\n",
       "       '145 min', '162 min', '41 min', '147 min', '155 min', '117 min',\n",
       "       '167 min', '11 Seasons', '28 min', '180 min', '2 min', '541 min',\n",
       "       '240 min', '129 min', '178 min', '21 min', '24 min', '171 min',\n",
       "       '172 min', '173 min', '10 min', '166 min', '160 min', '130 min',\n",
       "       '479 min', '13 min', '8 min', '10 Seasons', '17 min', '16 min',\n",
       "       '158 min', '183 min', '12 min', '14 Seasons', '150 min', '481 min',\n",
       "       '181 min', '156 min', '540 min', '177 min', '550 min', '485 min',\n",
       "       '193 min', '165 min', '175 min', '188 min', '187 min', '176 min',\n",
       "       '168 min', '190 min', '185 min', '209 min', '192 min', '182 min',\n",
       "       '207 min', '269 min', '15 Seasons', '191 min'], dtype=object)"
      ]
     },
     "execution_count": 9,
     "metadata": {},
     "output_type": "execute_result"
    }
   ],
   "source": [
    "df_amazon['duration'].unique()"
   ]
  },
  {
   "cell_type": "code",
   "execution_count": 10,
   "id": "175db2e8-7606-4e92-a2ee-40d2f40f3674",
   "metadata": {},
   "outputs": [
    {
     "data": {
      "text/plain": [
       "array(['13+', 'ALL', '18+', 'R', 'TV-Y', 'TV-Y7', 'NR', '16+', 'TV-PG',\n",
       "       '7+', 'TV-14', 'TV-NR', 'TV-G', 'PG-13', 'TV-MA', 'G', 'PG',\n",
       "       'NC-17', 'UNRATED', '16', 'AGES_16_', 'AGES_18_', 'ALL_AGES',\n",
       "       'NOT_RATE'], dtype=object)"
      ]
     },
     "execution_count": 10,
     "metadata": {},
     "output_type": "execute_result"
    }
   ],
   "source": [
    "df_amazon['rating'].unique()"
   ]
  },
  {
   "cell_type": "code",
   "execution_count": 11,
   "id": "70199ae1-29eb-4fe7-990c-b64d8804654e",
   "metadata": {},
   "outputs": [],
   "source": [
    "# Fix rating for shows so there are not multiple that mean the same thing\n",
    "def fix_ratings(string):\n",
    "    if string == 'ALL_AGES' or string == 'ALL':\n",
    "        return 'G'\n",
    "    elif string == 'UNRATED' or string == 'NOT_RATE':\n",
    "        return 'NR'\n",
    "    elif string == '16' or string == 'AGES_16_':\n",
    "        return '16+'\n",
    "    elif string == 'AGES_18_':\n",
    "        return '18+'\n",
    "    else:\n",
    "        return string"
   ]
  },
  {
   "cell_type": "code",
   "execution_count": 12,
   "id": "0f9c9839-e0cf-404b-9e07-082994509e40",
   "metadata": {},
   "outputs": [
    {
     "data": {
      "text/plain": [
       "array(['13+', 'G', '18+', 'R', 'TV-Y', 'TV-Y7', 'NR', '16+', 'TV-PG',\n",
       "       '7+', 'TV-14', 'TV-NR', 'TV-G', 'PG-13', 'TV-MA', 'PG', 'NC-17'],\n",
       "      dtype=object)"
      ]
     },
     "execution_count": 12,
     "metadata": {},
     "output_type": "execute_result"
    }
   ],
   "source": [
    "# apply function to normalize ratings\n",
    "df_amazon['rating'] = df_amazon['rating'].apply(fix_ratings)\n",
    "df_amazon['rating'].unique()"
   ]
  },
  {
   "cell_type": "code",
   "execution_count": 15,
   "id": "4be301af-a121-44b3-a6d3-e72b2d56385d",
   "metadata": {},
   "outputs": [
    {
     "data": {
      "text/plain": [
       "array(['India', '', 'Italy', 'United States', 'United Kingdom, France',\n",
       "       'United States, Italy', 'United States, India',\n",
       "       'United Kingdom, United States',\n",
       "       'United States, United Kingdom, Germany', 'Japan',\n",
       "       'China, United States, United Kingdom',\n",
       "       'Denmark, United Kingdom, Czech Republic, Netherlands',\n",
       "       'United Kingdom', 'Canada', 'United States, Ireland',\n",
       "       'United States, United Kingdom, Canada',\n",
       "       'United Kingdom, United States, India', 'United Kingdom, India',\n",
       "       'United States, China', 'Canada, United States',\n",
       "       'Brazil, United States, India', 'United States, Thailand', 'Spain',\n",
       "       'Switzerland, India', 'United Kingdom, Canada, United States',\n",
       "       'Germany', 'Australia', 'Belgium',\n",
       "       'Chile, Argentina, United States', 'Mexico',\n",
       "       'Denmark, Sweden, United States', 'Netherlands',\n",
       "       'United States, United Kingdom', 'New Zealand',\n",
       "       'United States, Portugal', 'United States, France',\n",
       "       'Canada, United States, Brazil', 'France, United States',\n",
       "       'India, United States', 'India, Sweden',\n",
       "       'United Kingdom, Hungary, United States',\n",
       "       'Czech Republic, Germany', 'United Kingdom, France, United States',\n",
       "       'Iran, France', 'United States, France, Denmark', 'Brazil',\n",
       "       'Ireland, Belgium, France, Luxembourg, United Kingdom',\n",
       "       'United States, Germany, Brazil, Italy', 'South Africa',\n",
       "       'Australia, United States, Germany',\n",
       "       'Germany, Austria, United States',\n",
       "       'France, China, Belgium, Monaco', 'Egypt',\n",
       "       'United States, Austria', 'Switzerland',\n",
       "       'United States, United Arab Emirates',\n",
       "       'United States, Belgium, Denmark, France', 'United States, Canada',\n",
       "       'India, United States, United Kingdom, Canada, China',\n",
       "       'India, South Africa, Brazil', 'United States, Germany',\n",
       "       'United States, Japan, Singapore, South Korea',\n",
       "       'Afghanistan, France', 'Australia, Colombia, United Kingdom',\n",
       "       'United States, Sweden, Norway', 'Kosovo, Netherlands',\n",
       "       'Spain, United Kingdom, Italy', 'Austria', 'United Kingdom, Spain',\n",
       "       'United States, United Kingdom, Kazakhstan', 'Malaysia',\n",
       "       'Poland, United States', 'Canada, Germany', 'India, Denmark',\n",
       "       'United States, Switzerland', 'United States, Germany, Italy',\n",
       "       'France', 'Denmark, France', 'Japan, France',\n",
       "       'Kosovo, Albania, United States, Georgia', 'United States, Japan',\n",
       "       'Germany, Canada, United States, France, United Kingdom',\n",
       "       'United States, Mexico',\n",
       "       'United States, Germany, Japan, United Kingdom, Hong Kong',\n",
       "       'Italy, Canada', 'France, Belgium', 'Italy, Spain'], dtype=object)"
      ]
     },
     "execution_count": 15,
     "metadata": {},
     "output_type": "execute_result"
    }
   ],
   "source": [
    "df_amazon['country'].unique()"
   ]
  },
  {
   "cell_type": "code",
   "execution_count": 22,
   "id": "e362164a-bc41-4c71-9db9-0651af202875",
   "metadata": {},
   "outputs": [
    {
     "data": {
      "text/plain": [
       "array(['India', '', 'Italy', 'United States', 'United Kingdom, France',\n",
       "       'United States, Italy', 'United States, India',\n",
       "       'United Kingdom, United States',\n",
       "       'United States, United Kingdom, Germany', 'Japan',\n",
       "       'China, United States, United Kingdom',\n",
       "       'Denmark, United Kingdom, Czech Republic, Netherlands',\n",
       "       'United Kingdom', 'Canada', 'United States, Ireland',\n",
       "       'United States, United Kingdom, Canada',\n",
       "       'United Kingdom, United States, India', 'United Kingdom, India',\n",
       "       'United States, China', 'Canada, United States',\n",
       "       'Brazil, United States, India', 'United States, Thailand', 'Spain',\n",
       "       'Switzerland, India', 'United Kingdom, Canada, United States',\n",
       "       'Germany', 'Australia', 'Belgium',\n",
       "       'Chile, Argentina, United States', 'Mexico',\n",
       "       'Denmark, Sweden, United States', 'Netherlands',\n",
       "       'United States, United Kingdom', 'New Zealand',\n",
       "       'United States, Portugal', 'United States, France',\n",
       "       'Canada, United States, Brazil', 'France, United States',\n",
       "       'India, United States', 'India, Sweden',\n",
       "       'United Kingdom, Hungary, United States',\n",
       "       'Czech Republic, Germany', 'United Kingdom, France, United States',\n",
       "       'Iran, France', 'United States, France, Denmark', 'Brazil',\n",
       "       'Ireland, Belgium, France, Luxembourg, United Kingdom',\n",
       "       'United States, Germany, Brazil, Italy', 'South Africa',\n",
       "       'Australia, United States, Germany',\n",
       "       'Germany, Austria, United States',\n",
       "       'France, China, Belgium, Monaco', 'Egypt',\n",
       "       'United States, Austria', 'Switzerland',\n",
       "       'United States, United Arab Emirates',\n",
       "       'United States, Belgium, Denmark, France', 'United States, Canada',\n",
       "       'India, United States, United Kingdom, Canada, China',\n",
       "       'India, South Africa, Brazil', 'United States, Germany',\n",
       "       'United States, Japan, Singapore, South Korea',\n",
       "       'Afghanistan, France', 'Australia, Colombia, United Kingdom',\n",
       "       'United States, Sweden, Norway', 'Kosovo, Netherlands',\n",
       "       'Spain, United Kingdom, Italy', 'Austria', 'United Kingdom, Spain',\n",
       "       'United States, United Kingdom, Kazakhstan', 'Malaysia',\n",
       "       'Poland, United States', 'Canada, Germany', 'India, Denmark',\n",
       "       'United States, Switzerland', 'United States, Germany, Italy',\n",
       "       'France', 'Denmark, France', 'Japan, France',\n",
       "       'Kosovo, Albania, United States, Georgia', 'United States, Japan',\n",
       "       'Germany, Canada, United States, France, United Kingdom',\n",
       "       'United States, Mexico',\n",
       "       'United States, Germany, Japan, United Kingdom, Hong Kong',\n",
       "       'Italy, Canada', 'France, Belgium', 'Italy, Spain'], dtype=object)"
      ]
     },
     "execution_count": 22,
     "metadata": {},
     "output_type": "execute_result"
    }
   ],
   "source": [
    "def fix_countries(string):\n",
    "    return string.replace('\\'',  '').strip()\n",
    "\n",
    "df_amazon['country'] = df_amazon['country'].apply(fix_countries)\n",
    "df_amazon['country'].unique()"
   ]
  },
  {
   "cell_type": "code",
   "execution_count": null,
   "id": "7dcca78a-367b-4445-9552-c300ea7ffeb1",
   "metadata": {},
   "outputs": [],
   "source": []
  },
  {
   "cell_type": "code",
   "execution_count": null,
   "id": "366d4008-16ab-4f51-9616-399a1607375e",
   "metadata": {},
   "outputs": [],
   "source": []
  }
 ],
 "metadata": {
  "kernelspec": {
   "display_name": "Python 3 (ipykernel)",
   "language": "python",
   "name": "python3"
  },
  "language_info": {
   "codemirror_mode": {
    "name": "ipython",
    "version": 3
   },
   "file_extension": ".py",
   "mimetype": "text/x-python",
   "name": "python",
   "nbconvert_exporter": "python",
   "pygments_lexer": "ipython3",
   "version": "3.10.11"
  }
 },
 "nbformat": 4,
 "nbformat_minor": 5
}
